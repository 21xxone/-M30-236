{
 "cells": [
  {
   "cell_type": "code",
   "execution_count": 1,
   "id": "129da6a8-01bb-4f15-b35f-4de530dc63ee",
   "metadata": {},
   "outputs": [],
   "source": [
    "import pandas as pd\n",
    "import matplotlib.pyplot as plt"
   ]
  },
  {
   "cell_type": "markdown",
   "id": "4958e100-966c-473c-89da-35d913aad9ee",
   "metadata": {},
   "source": [
    "случайная выборка и загрузка файла"
   ]
  },
  {
   "cell_type": "code",
   "execution_count": null,
   "id": "b9c242f8-b028-452e-b5bc-8cea000b9926",
   "metadata": {},
   "outputs": [],
   "source": [
    "dr = pd.read_csv('C:\\\\Users\\\\Администратор\\\\Downloads\\\\los-angeles-crime-data-master\\\\la_crime_200_recs.csv')\n",
    "dr "
   ]
  },
  {
   "cell_type": "code",
   "execution_count": null,
   "id": "ecfdda75-13f0-4aed-82cb-c395755bc14c",
   "metadata": {},
   "outputs": [],
   "source": [
    "dr.shape"
   ]
  },
  {
   "cell_type": "markdown",
   "id": "5bb0e2fb-045f-4f55-bf02-008c5e75f823",
   "metadata": {},
   "source": [
    "количество строк и столбцов в таблице"
   ]
  },
  {
   "cell_type": "code",
   "execution_count": 3,
   "id": "aba3a923-5ae6-4015-86c4-b45ce38b5de1",
   "metadata": {},
   "outputs": [
    {
     "data": {
      "text/plain": [
       "['address',\n",
       " 'area_id',\n",
       " 'area_name',\n",
       " 'crime_code',\n",
       " 'crime_code_1',\n",
       " 'crime_code_2',\n",
       " 'crime_code_3',\n",
       " 'crime_code_4',\n",
       " 'crime_code_description',\n",
       " 'cross_street',\n",
       " 'date_occurred',\n",
       " 'date_reported',\n",
       " 'dr_number',\n",
       " 'location ',\n",
       " 'mo_codes',\n",
       " 'premise_code',\n",
       " 'premise_description',\n",
       " 'reporting_district',\n",
       " 'status_code',\n",
       " 'status_description',\n",
       " 'time_occurred',\n",
       " 'victim_age',\n",
       " 'victim_descent',\n",
       " 'victim_sex',\n",
       " 'weapon _used_code',\n",
       " 'weapon_description']"
      ]
     },
     "execution_count": 3,
     "metadata": {},
     "output_type": "execute_result"
    }
   ],
   "source": [
    "sorted(dr)"
   ]
  },
  {
   "cell_type": "markdown",
   "id": "688c4cfc-16be-4d37-889c-9e5e788b1b5f",
   "metadata": {},
   "source": [
    "сортировка по названию столбцов"
   ]
  },
  {
   "cell_type": "code",
   "execution_count": 4,
   "id": "8076df5f-5f3d-4f10-92f9-9dfe2a13face",
   "metadata": {},
   "outputs": [
    {
     "data": {
      "text/plain": [
       "dr_number                 199\n",
       "date_reported             134\n",
       "date_occurred             140\n",
       "time_occurred              99\n",
       "area_id                    14\n",
       "area_name                  14\n",
       "reporting_district        101\n",
       "crime_code                 36\n",
       "crime_code_description     36\n",
       "mo_codes                  103\n",
       "victim_age                 45\n",
       "victim_sex                  2\n",
       "victim_descent              6\n",
       "premise_code               28\n",
       "premise_description        28\n",
       "weapon _used_code          14\n",
       "weapon_description         14\n",
       "status_code                 4\n",
       "status_description          4\n",
       "crime_code_1               36\n",
       "crime_code_2                2\n",
       "crime_code_3                0\n",
       "crime_code_4                0\n",
       "address                   155\n",
       "cross_street               73\n",
       "location                  160\n",
       "dtype: int64"
      ]
     },
     "execution_count": 4,
     "metadata": {},
     "output_type": "execute_result"
    }
   ],
   "source": [
    "dr.nunique()"
   ]
  },
  {
   "cell_type": "markdown",
   "id": "9f9a4b95-a791-4815-abb3-250c565c8510",
   "metadata": {},
   "source": [
    "Уникальные значения в каждом столбце"
   ]
  },
  {
   "cell_type": "code",
   "execution_count": 5,
   "id": "0e338983-d14f-48bc-9bc4-6cf6909ee63b",
   "metadata": {},
   "outputs": [
    {
     "data": {
      "text/plain": [
       "array([[<Axes: title={'center': 'area_id'}>]], dtype=object)"
      ]
     },
     "execution_count": 5,
     "metadata": {},
     "output_type": "execute_result"
    },
    {
     "data": {
      "image/png": "[encoded data removed]",
      "text/plain": [
       "<Figure size 640x480 with 1 Axes>"
      ]
     },
     "metadata": {},
     "output_type": "display_data"
    }
   ],
   "source": [
    "dr.hist('area_id')"
   ]
  },
  {
   "cell_type": "markdown",
   "id": "b09578d8-5e3b-4449-98eb-f3dd60bc00ff",
   "metadata": {},
   "source": [
    "Распределение числовых переменных"
   ]
  },
  {
   "cell_type": "code",
   "execution_count": 6,
   "id": "81382a06-4c6d-4855-aad0-3481341a3e12",
   "metadata": {},
   "outputs": [
    {
     "data": {
      "text/html": [
       "<div>\n",
       "<style scoped>\n",
       "    .dataframe tbody tr th:only-of-type {\n",
       "        vertical-align: middle;\n",
       "    }\n",
       "\n",
       "    .dataframe tbody tr th {\n",
       "        vertical-align: top;\n",
       "    }\n",
       "\n",
       "    .dataframe thead th {\n",
       "        text-align: right;\n",
       "    }\n",
       "</style>\n",
       "<table border=\"1\" class=\"dataframe\">\n",
       "  <thead>\n",
       "    <tr style=\"text-align: right;\">\n",
       "      <th></th>\n",
       "      <th>count</th>\n",
       "    </tr>\n",
       "    <tr>\n",
       "      <th>victim_sex</th>\n",
       "      <th></th>\n",
       "    </tr>\n",
       "  </thead>\n",
       "  <tbody>\n",
       "    <tr>\n",
       "      <th>M</th>\n",
       "      <td>82</td>\n",
       "    </tr>\n",
       "    <tr>\n",
       "      <th>F</th>\n",
       "      <td>54</td>\n",
       "    </tr>\n",
       "  </tbody>\n",
       "</table>\n",
       "</div>"
      ],
      "text/plain": [
       "            count\n",
       "victim_sex       \n",
       "M              82\n",
       "F              54"
      ]
     },
     "execution_count": 6,
     "metadata": {},
     "output_type": "execute_result"
    }
   ],
   "source": [
    "dr_s = dr.victim_sex.value_counts().to_frame()\n",
    "dr_s"
   ]
  },
  {
   "cell_type": "markdown",
   "id": "e8d0a8b2-b54d-4821-9db0-e4586900941e",
   "metadata": {},
   "source": [
    "Количество преступлений в зависимости от пола, как мы видим, мужчины чаще подвергаются преступлениям"
   ]
  },
  {
   "cell_type": "code",
   "execution_count": 7,
   "id": "61357323-e303-4c4e-9143-3ee8636a027f",
   "metadata": {},
   "outputs": [],
   "source": [
    "dr_v = dr.victim_age.value_counts().to_frame()\n",
    "dr_v.sort_values(by='victim_age')\n",
    "dr_v = dr_v.reset_index()"
   ]
  },
  {
   "cell_type": "code",
   "execution_count": 8,
   "id": "bce22061-04a7-42be-a2d1-d812aaee1672",
   "metadata": {},
   "outputs": [
    {
     "data": {
      "text/plain": [
       "<Axes: ylabel='Density'>"
      ]
     },
     "execution_count": 8,
     "metadata": {},
     "output_type": "execute_result"
    },
    {
     "data": {
      "image/png": "[encoded data removed]",
      "text/plain": [
       "<Figure size 640x480 with 1 Axes>"
      ]
     },
     "metadata": {},
     "output_type": "display_data"
    }
   ],
   "source": [
    "dr_v.plot.kde(x='count',y='victim_age')"
   ]
  },
  {
   "cell_type": "code",
   "execution_count": null,
   "id": "fa8d9738-9fea-4303-9b32-4b1c0e129aa0",
   "metadata": {},
   "outputs": [],
   "source": [
    "dr_v.hist()"
   ]
  },
  {
   "cell_type": "markdown",
   "id": "51c44bb1-a96f-4adb-a995-5ef4df93afaf",
   "metadata": {},
   "source": [
    "Отсортировал количество преступлений по возрасту, можно заметить, что самое большое количество преступлений приходит на диапозон от 20 до 40 лет, локальный минимум в возрасте с 60 до 80"
   ]
  },
  {
   "cell_type": "code",
   "execution_count": 16,
   "id": "57cbbfc0-af1c-4c46-ae3f-138e804162eb",
   "metadata": {},
   "outputs": [
    {
     "data": {
      "text/html": [
       "<div>\n",
       "<style scoped>\n",
       "    .dataframe tbody tr th:only-of-type {\n",
       "        vertical-align: middle;\n",
       "    }\n",
       "\n",
       "    .dataframe tbody tr th {\n",
       "        vertical-align: top;\n",
       "    }\n",
       "\n",
       "    .dataframe thead th {\n",
       "        text-align: right;\n",
       "    }\n",
       "</style>\n",
       "<table border=\"1\" class=\"dataframe\">\n",
       "  <thead>\n",
       "    <tr style=\"text-align: right;\">\n",
       "      <th></th>\n",
       "      <th>crime_code_description</th>\n",
       "      <th>count</th>\n",
       "    </tr>\n",
       "  </thead>\n",
       "  <tbody>\n",
       "    <tr>\n",
       "      <th>0</th>\n",
       "      <td>VEHICLE - STOLEN</td>\n",
       "      <td>63</td>\n",
       "    </tr>\n",
       "    <tr>\n",
       "      <th>1</th>\n",
       "      <td>BATTERY - SIMPLE ASSAULT</td>\n",
       "      <td>26</td>\n",
       "    </tr>\n",
       "    <tr>\n",
       "      <th>2</th>\n",
       "      <td>INTIMATE PARTNER - SIMPLE ASSAULT</td>\n",
       "      <td>20</td>\n",
       "    </tr>\n",
       "    <tr>\n",
       "      <th>3</th>\n",
       "      <td>ROBBERY</td>\n",
       "      <td>12</td>\n",
       "    </tr>\n",
       "    <tr>\n",
       "      <th>4</th>\n",
       "      <td>ASSAULT WITH DEADLY WEAPON, AGGRAVATED ASSAULT</td>\n",
       "      <td>10</td>\n",
       "    </tr>\n",
       "    <tr>\n",
       "      <th>5</th>\n",
       "      <td>BURGLARY FROM VEHICLE</td>\n",
       "      <td>6</td>\n",
       "    </tr>\n",
       "    <tr>\n",
       "      <th>6</th>\n",
       "      <td>TRESPASSING</td>\n",
       "      <td>6</td>\n",
       "    </tr>\n",
       "    <tr>\n",
       "      <th>7</th>\n",
       "      <td>OTHER MISCELLANEOUS CRIME</td>\n",
       "      <td>6</td>\n",
       "    </tr>\n",
       "    <tr>\n",
       "      <th>8</th>\n",
       "      <td>VANDALISM - MISDEAMEANOR ($399 OR UNDER)</td>\n",
       "      <td>5</td>\n",
       "    </tr>\n",
       "    <tr>\n",
       "      <th>9</th>\n",
       "      <td>THEFT PLAIN - PETTY ($950 &amp; UNDER)</td>\n",
       "      <td>5</td>\n",
       "    </tr>\n",
       "  </tbody>\n",
       "</table>\n",
       "</div>"
      ],
      "text/plain": [
       "                           crime_code_description  count\n",
       "0                                VEHICLE - STOLEN     63\n",
       "1                        BATTERY - SIMPLE ASSAULT     26\n",
       "2               INTIMATE PARTNER - SIMPLE ASSAULT     20\n",
       "3                                         ROBBERY     12\n",
       "4  ASSAULT WITH DEADLY WEAPON, AGGRAVATED ASSAULT     10\n",
       "5                           BURGLARY FROM VEHICLE      6\n",
       "6                                     TRESPASSING      6\n",
       "7                       OTHER MISCELLANEOUS CRIME      6\n",
       "8        VANDALISM - MISDEAMEANOR ($399 OR UNDER)      5\n",
       "9              THEFT PLAIN - PETTY ($950 & UNDER)      5"
      ]
     },
     "execution_count": 16,
     "metadata": {},
     "output_type": "execute_result"
    }
   ],
   "source": [
    "dr_c = dr.crime_code_1.value_counts().to_frame()\n",
    "dr_c = dr_c.reset_index()\n",
    "dr_c.head(10)"
   ]
  },
  {
   "cell_type": "code",
   "execution_count": 18,
   "id": "43bf68a5-2854-4642-bd91-4f7683fc42b4",
   "metadata": {},
   "outputs": [
    {
     "data": {
      "text/plain": [
       "<Axes: >"
      ]
     },
     "execution_count": 18,
     "metadata": {},
     "output_type": "execute_result"
    },
    {
     "data": {
      "image/png": "[encoded data removed]",
      "text/plain": [
       "<Figure size 640x480 with 1 Axes>"
      ]
     },
     "metadata": {},
     "output_type": "display_data"
    }
   ],
   "source": [
    "dr_c.plot(x='count',y='crime_code_1')"
   ]
  },
  {
   "cell_type": "markdown",
   "id": "379f6961-8c68-4654-bf20-33f3152629d5",
   "metadata": {},
   "source": [
    "10 самых популярных преступлений и их количество в виде графика."
   ]
  },
  {
   "cell_type": "code",
   "execution_count": 12,
   "id": "ad0126c5-51c9-4fe4-b40b-57e76161da4c",
   "metadata": {},
   "outputs": [
    {
     "data": {
      "text/html": [
       "<div>\n",
       "<style scoped>\n",
       "    .dataframe tbody tr th:only-of-type {\n",
       "        vertical-align: middle;\n",
       "    }\n",
       "\n",
       "    .dataframe tbody tr th {\n",
       "        vertical-align: top;\n",
       "    }\n",
       "\n",
       "    .dataframe thead th {\n",
       "        text-align: right;\n",
       "    }\n",
       "</style>\n",
       "<table border=\"1\" class=\"dataframe\">\n",
       "  <thead>\n",
       "    <tr style=\"text-align: right;\">\n",
       "      <th></th>\n",
       "      <th>count</th>\n",
       "    </tr>\n",
       "    <tr>\n",
       "      <th>victim_descent</th>\n",
       "      <th></th>\n",
       "    </tr>\n",
       "  </thead>\n",
       "  <tbody>\n",
       "    <tr>\n",
       "      <th>H</th>\n",
       "      <td>62</td>\n",
       "    </tr>\n",
       "  </tbody>\n",
       "</table>\n",
       "</div>"
      ],
      "text/plain": [
       "                count\n",
       "victim_descent       \n",
       "H                  62"
      ]
     },
     "execution_count": 12,
     "metadata": {},
     "output_type": "execute_result"
    }
   ],
   "source": [
    "dr_d = dr.victim_descent.value_counts().to_frame()\n",
    "dr_d.head(1)"
   ]
  },
  {
   "cell_type": "markdown",
   "id": "f484df14-6ad8-4c59-9402-dc819edcb751",
   "metadata": {},
   "source": [
    "Таблица происхождения H (Hispanic/Latin/Mexican) чаще всего подтвергаются преступлениям"
   ]
  },
  {
   "cell_type": "code",
   "execution_count": 13,
   "id": "65508746-ad02-47b8-a255-0c6e103986b9",
   "metadata": {},
   "outputs": [],
   "source": [
    "dr_da = dr.area_name.value_counts().to_frame()\n",
    "dr_da = dr_da.reset_index()"
   ]
  },
  {
   "cell_type": "code",
   "execution_count": 14,
   "id": "8fbaecd1-7795-4e47-81d2-cdace879af96",
   "metadata": {},
   "outputs": [
    {
     "data": {
      "text/plain": [
       "<Axes: xlabel='area_name'>"
      ]
     },
     "execution_count": 14,
     "metadata": {},
     "output_type": "execute_result"
    },
    {
     "data": {
      "image/png": "[encoded data removed]",
      "text/plain": [
       "<Figure size 640x480 with 1 Axes>"
      ]
     },
     "metadata": {},
     "output_type": "display_data"
    }
   ],
   "source": [
    "dr_da.plot(x='area_name',y='count')"
   ]
  },
  {
   "cell_type": "markdown",
   "id": "718c7120-1ef4-4d65-8d21-3b4330af58c5",
   "metadata": {},
   "source": [
    "Количество преступлений от района"
   ]
  }
 ],
 "metadata": {
  "kernelspec": {
   "display_name": "Python 3 (ipykernel)",
   "language": "python",
   "name": "python3"
  },
  "language_info": {
   "codemirror_mode": {
    "name": "ipython",
    "version": 3
   },
   "file_extension": ".py",
   "mimetype": "text/x-python",
   "name": "python",
   "nbconvert_exporter": "python",
   "pygments_lexer": "ipython3",
   "version": "3.11.3"
  }
 },
 "nbformat": 4,
 "nbformat_minor": 5
}
